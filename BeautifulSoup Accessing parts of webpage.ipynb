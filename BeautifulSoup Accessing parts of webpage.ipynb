{
 "cells": [
  {
   "cell_type": "code",
   "execution_count": 15,
   "metadata": {},
   "outputs": [
    {
     "name": "stdout",
     "output_type": "stream",
     "text": [
      "<html>\n",
      " <head>\n",
      "  <title>\n",
      "   Page title\n",
      "  </title>\n",
      " </head>\n",
      " <body>\n",
      "  <p align=\"center\" id=\"firstpara\">\n",
      "   This is paragraph\n",
      "   <b>\n",
      "    one\n",
      "   </b>\n",
      "   .\n",
      "  </p>\n",
      "  <p align=\"blah\" id=\"secondpara\">\n",
      "   This is paragraph\n",
      "   <b>\n",
      "    two\n",
      "   </b>\n",
      "   .\n",
      "  </p>\n",
      " </body>\n",
      "</html>\n"
     ]
    }
   ],
   "source": [
    "import requests\n",
    "from bs4 import BeautifulSoup \n",
    "\n",
    "doc = ['<html><head><title>Page title</title></head>',\n",
    "       '<body><p id=\"firstpara\" align=\"center\">This is paragraph <b>one</b>.',\n",
    "       '<p id=\"secondpara\" align=\"blah\">This is paragraph <b>two</b>.',\n",
    "       '</html>']\n",
    "soup = BeautifulSoup(''.join(doc))\n",
    "\n",
    "print(soup.prettify())"
   ]
  },
  {
   "cell_type": "code",
   "execution_count": 16,
   "metadata": {},
   "outputs": [
    {
     "data": {
      "text/plain": [
       "'one'"
      ]
     },
     "execution_count": 16,
     "metadata": {},
     "output_type": "execute_result"
    }
   ],
   "source": [
    "soup.b.string"
   ]
  },
  {
   "cell_type": "code",
   "execution_count": 17,
   "metadata": {},
   "outputs": [
    {
     "data": {
      "text/plain": [
       "'one'"
      ]
     },
     "execution_count": 17,
     "metadata": {},
     "output_type": "execute_result"
    }
   ],
   "source": [
    "# u'one'\n",
    "soup.b.contents[0]"
   ]
  },
  {
   "cell_type": "code",
   "execution_count": 18,
   "metadata": {},
   "outputs": [
    {
     "data": {
      "text/plain": [
       "['This is paragraph ', <b>one</b>, '.']"
      ]
     },
     "execution_count": 18,
     "metadata": {},
     "output_type": "execute_result"
    }
   ],
   "source": [
    "pTag = soup.p\n",
    "pTag.contents"
   ]
  },
  {
   "cell_type": "code",
   "execution_count": 19,
   "metadata": {},
   "outputs": [
    {
     "name": "stdout",
     "output_type": "stream",
     "text": [
      "<p align=\"center\" id=\"firstpara\">This is paragraph <b>one</b>.</p>\n",
      "<p align=\"blah\" id=\"secondpara\">This is paragraph <b>two</b>.</p>\n"
     ]
    }
   ],
   "source": [
    "for i in soup.body:\n",
    "    print(i)"
   ]
  },
  {
   "cell_type": "code",
   "execution_count": null,
   "metadata": {},
   "outputs": [],
   "source": []
  }
 ],
 "metadata": {
  "kernelspec": {
   "display_name": "Python 3",
   "language": "python",
   "name": "python3"
  },
  "language_info": {
   "codemirror_mode": {
    "name": "ipython",
    "version": 3
   },
   "file_extension": ".py",
   "mimetype": "text/x-python",
   "name": "python",
   "nbconvert_exporter": "python",
   "pygments_lexer": "ipython3",
   "version": "3.7.1"
  }
 },
 "nbformat": 4,
 "nbformat_minor": 2
}
