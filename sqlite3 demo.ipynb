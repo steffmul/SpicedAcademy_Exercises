{
 "cells": [
  {
   "cell_type": "code",
   "execution_count": 127,
   "metadata": {},
   "outputs": [],
   "source": [
    "import sqlite3\n",
    "conn = sqlite3.connect('example3.db')"
   ]
  },
  {
   "cell_type": "code",
   "execution_count": 128,
   "metadata": {},
   "outputs": [],
   "source": [
    "c = conn.cursor()\n",
    "\n",
    "# Create table\n",
    "c.execute('''CREATE TABLE stocks\n",
    "             (date text, trans text, symbol text, qty real, price real)''')\n",
    "\n",
    "# Insert a row of data\n",
    "c.execute(\"INSERT INTO stocks VALUES ('2006-01-05','BUY','RHAT',100,35.14)\")\n",
    "\n",
    "# Save (commit) the changes\n",
    "conn.commit()\n",
    "\n",
    "# We can also close the connection if we are done with it.\n",
    "# Just be sure any changes have been committed or they will be lost.\n",
    "#conn.close()"
   ]
  },
  {
   "cell_type": "code",
   "execution_count": 129,
   "metadata": {},
   "outputs": [
    {
     "name": "stdout",
     "output_type": "stream",
     "text": [
      "('2006-01-05', 'BUY', 'RHAT', 100.0, 35.14)\n"
     ]
    }
   ],
   "source": [
    "conn = sqlite3.connect('example3.db')\n",
    "\n",
    "t = ('RHAT',)\n",
    "c.execute('SELECT * FROM stocks WHERE symbol=?', t)\n",
    "print(c.fetchone())"
   ]
  },
  {
   "cell_type": "code",
   "execution_count": 130,
   "metadata": {},
   "outputs": [
    {
     "data": {
      "text/plain": [
       "<sqlite3.Cursor at 0x1d5586acc00>"
      ]
     },
     "execution_count": 130,
     "metadata": {},
     "output_type": "execute_result"
    }
   ],
   "source": [
    "# Larger example that inserts many records at a time\n",
    "purchases = [('2006-03-28', 'BUY', 'IBM', 1000, 45.00),\n",
    "             ('2006-04-05', 'BUY', 'MSFT', 1000, 72.00),\n",
    "             ('2006-04-06', 'SELL', 'IBM', 500, 53.00),\n",
    "            ]\n",
    "c.executemany('INSERT INTO stocks VALUES (?,?,?,?,?)', purchases)"
   ]
  },
  {
   "cell_type": "code",
   "execution_count": 131,
   "metadata": {},
   "outputs": [
    {
     "name": "stdout",
     "output_type": "stream",
     "text": [
      "('2006-01-05', 'BUY', 'RHAT', 100.0, 35.14)\n",
      "('2006-03-28', 'BUY', 'IBM', 1000.0, 45.0)\n",
      "('2006-04-06', 'SELL', 'IBM', 500.0, 53.0)\n",
      "('2006-04-05', 'BUY', 'MSFT', 1000.0, 72.0)\n"
     ]
    }
   ],
   "source": [
    "for row in c.execute('SELECT * FROM stocks ORDER BY price'):\n",
    "    print(row)"
   ]
  },
  {
   "cell_type": "code",
   "execution_count": 132,
   "metadata": {},
   "outputs": [
    {
     "data": {
      "text/plain": [
       "<sqlite3.Cursor at 0x1d5586acf10>"
      ]
     },
     "execution_count": 132,
     "metadata": {},
     "output_type": "execute_result"
    }
   ],
   "source": [
    "persons = [\n",
    "    (\"Hugo\", \"Boss\"),\n",
    "    (\"Calvin\", \"Klein\"),\n",
    "    (\"Ralph\", \"Lauren\")\n",
    "    ]\n",
    "\n",
    "subbrands = [\n",
    "    (\"Hugo Boss\", \"Boss\"),\n",
    "    (\"Hugo Boss\", \"Boss Orange\"),\n",
    "    (\"Hugo Boss\", \"Hugo\"),\n",
    "    (\"Hugo Boss\", \"Baldessarini\"),\n",
    "    (\"Calvin Klein\", \"Calvin Klein Jeans\"),\n",
    "    (\"Calvin Klein\", \"Calvin Klein Underwear\")\n",
    "]\n",
    "\n",
    "con = sqlite3.connect(\":memory:\")\n",
    "\n",
    "# Create the table\n",
    "con.execute(\"create table person(firstname, lastname)\")\n",
    "con.execute(\"create table subbrands(designer, brand)\")\n",
    "    \n",
    "# Fill the table\n",
    "con.executemany(\"insert into person(firstname, lastname) values (?, ?)\", persons)\n",
    "con.executemany(\"insert into subbrands(designer, brand) values (?, ?)\", subbrands)"
   ]
  },
  {
   "cell_type": "code",
   "execution_count": 133,
   "metadata": {},
   "outputs": [
    {
     "name": "stdout",
     "output_type": "stream",
     "text": [
      "('Hugo', 'Boss')\n",
      "('Calvin', 'Klein')\n",
      "('Ralph', 'Lauren')\n"
     ]
    }
   ],
   "source": [
    "# Print the table contents\n",
    "for row in con.execute(\"select firstname, lastname from person\"):\n",
    "    print(row)"
   ]
  },
  {
   "cell_type": "code",
   "execution_count": 134,
   "metadata": {},
   "outputs": [
    {
     "name": "stdout",
     "output_type": "stream",
     "text": [
      "('Hugo', 'Boss', 4)\n",
      "('Ralph', 'Lauren', 5)\n"
     ]
    }
   ],
   "source": [
    "# select statement with where condition\n",
    "for row in con.execute(\"select firstname, lastname, length(firstname) from person where length(firstname)<6\"):\n",
    "    print(row)"
   ]
  },
  {
   "cell_type": "code",
   "execution_count": 135,
   "metadata": {},
   "outputs": [
    {
     "name": "stdout",
     "output_type": "stream",
     "text": [
      "('Hugo Boss', 'Boss')\n",
      "('Hugo Boss', 'Boss Orange')\n",
      "('Hugo Boss', 'Hugo')\n",
      "('Hugo Boss', 'Baldessarini')\n",
      "('Calvin Klein', 'Calvin Klein Jeans')\n",
      "('Calvin Klein', 'Calvin Klein Underwear')\n"
     ]
    }
   ],
   "source": [
    "# Print the table contents\n",
    "for row in con.execute(\"select *from subbrands\"):\n",
    "    print(row)"
   ]
  },
  {
   "cell_type": "code",
   "execution_count": 136,
   "metadata": {},
   "outputs": [
    {
     "name": "stdout",
     "output_type": "stream",
     "text": [
      "('Hugo', 'Boss', 'Hugo Boss', 'Baldessarini')\n",
      "('Hugo', 'Boss', 'Hugo Boss', 'Boss')\n",
      "('Hugo', 'Boss', 'Hugo Boss', 'Boss Orange')\n",
      "('Hugo', 'Boss', 'Hugo Boss', 'Hugo')\n",
      "('Calvin', 'Klein', 'Calvin Klein', 'Calvin Klein Jeans')\n",
      "('Calvin', 'Klein', 'Calvin Klein', 'Calvin Klein Underwear')\n",
      "('Ralph', 'Lauren', None, None)\n"
     ]
    }
   ],
   "source": [
    "# Print the table contents\n",
    "for row in con.execute(\"select * from person p left join subbrands b on p.firstname||' '||p.lastname = b.designer\"):\n",
    "    print(row)"
   ]
  },
  {
   "cell_type": "code",
   "execution_count": 137,
   "metadata": {},
   "outputs": [
    {
     "name": "stdout",
     "output_type": "stream",
     "text": [
      "I just deleted 2 rows\n"
     ]
    }
   ],
   "source": [
    "# delete rows from table\n",
    "print(\"I just deleted\", con.execute(\"delete from person where firstname in ('Hugo','Ralph')\").rowcount, \"rows\")"
   ]
  },
  {
   "cell_type": "code",
   "execution_count": 138,
   "metadata": {},
   "outputs": [
    {
     "name": "stdout",
     "output_type": "stream",
     "text": [
      "('Calvin', 'Klein')\n"
     ]
    }
   ],
   "source": [
    "# Print the table contents\n",
    "for row in con.execute(\"select * from person\"):\n",
    "    print(row)"
   ]
  },
  {
   "cell_type": "code",
   "execution_count": 139,
   "metadata": {},
   "outputs": [
    {
     "name": "stdout",
     "output_type": "stream",
     "text": [
      "['city', 'country']\n"
     ]
    }
   ],
   "source": [
    "from sqlite3 import dbapi2 as sqlite\n",
    "\n",
    "geo = [\n",
    "    (\"NYC\", \"USA\"),\n",
    "    (\"London\", \"UK\"),\n",
    "    (\"Berlin\", \"Germany\")\n",
    "    ]\n",
    "\n",
    "\n",
    "con = sqlite3.connect(\":memory:\")\n",
    "\n",
    "# Create the table\n",
    "con.execute(\"create table geo(city, country)\")\n",
    "    \n",
    "# Fill the table\n",
    "con.executemany(\"insert into geo(city, country) values (?, ?)\", geo)\n",
    "\n",
    "cur.execute(\"select * from geo\")\n",
    "col_name_list = [tuple[0] for tuple in cur.description]\n",
    "print(col_name_list)"
   ]
  },
  {
   "cell_type": "code",
   "execution_count": null,
   "metadata": {},
   "outputs": [],
   "source": []
  },
  {
   "cell_type": "code",
   "execution_count": null,
   "metadata": {},
   "outputs": [],
   "source": []
  }
 ],
 "metadata": {
  "kernelspec": {
   "display_name": "Python 3",
   "language": "python",
   "name": "python3"
  },
  "language_info": {
   "codemirror_mode": {
    "name": "ipython",
    "version": 3
   },
   "file_extension": ".py",
   "mimetype": "text/x-python",
   "name": "python",
   "nbconvert_exporter": "python",
   "pygments_lexer": "ipython3",
   "version": "3.7.1"
  }
 },
 "nbformat": 4,
 "nbformat_minor": 2
}
