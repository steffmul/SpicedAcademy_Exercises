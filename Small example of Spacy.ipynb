{
 "cells": [
  {
   "cell_type": "code",
   "execution_count": 51,
   "metadata": {},
   "outputs": [
    {
     "name": "stdout",
     "output_type": "stream",
     "text": [
      "spaCy Version: 2.0.18\n"
     ]
    }
   ],
   "source": [
    "# Import libraries\n",
    "import spacy \n",
    "\n",
    "import pandas as pd\n",
    "import re\n",
    "from bs4 import BeautifulSoup as soup\n",
    "print('spaCy Version: %s' % (spacy.__version__))\n",
    "spacy_nlp = spacy.load('en_core_web_sm')"
   ]
  },
  {
   "cell_type": "code",
   "execution_count": 52,
   "metadata": {},
   "outputs": [],
   "source": [
    "# load document and do a little bit of cleaning up\n",
    "doc = open('folsom.html', 'r')\n",
    "soup =  soup(doc, 'html.parser')\n",
    "lyric = soup.text\n",
    "lyric = lyric.replace(\"\\n\",\" \")\n",
    "lyric = lyric.replace(\"\\'\",\"\")\n",
    "shortword = re.compile(r'\\W*\\b\\w{1,2}\\b')\n",
    "lyric = shortword.sub('', lyric)\n",
    "lyric = lyric[26:].lower()"
   ]
  },
  {
   "cell_type": "code",
   "execution_count": 53,
   "metadata": {},
   "outputs": [
    {
     "name": "stdout",
     "output_type": "stream",
     "text": [
      "Number of stop words: 305\n",
      "First ten stop words: ['too', 'all', 'always', 'most', 'name', 'twelve', 'nor', 'perhaps', 'we', 'what']\n"
     ]
    }
   ],
   "source": [
    "# Check pre-defined stop words\n",
    "spacy_stopwords = spacy.lang.en.stop_words.STOP_WORDS\n",
    "\n",
    "print('Number of stop words: %d' % len(spacy_stopwords))\n",
    "print('First ten stop words: %s' % list(spacy_stopwords)[:10])"
   ]
  },
  {
   "cell_type": "code",
   "execution_count": 54,
   "metadata": {},
   "outputs": [
    {
     "name": "stdout",
     "output_type": "stream",
     "text": [
      "Original Article:  the train comin its rolling round the bend and aint seen the sunshine since dont know when stuck folsom prison, and time keeps draggin but that train keeps rollin down san antone  when was just baby mama told. son always good boy, dont ever play with guns but shot man reno just watch him die when hear that whistle blowing hang head and cry bet theres rich folks eating fancy dining car theyre probably drinkin coffee and smoking big cigars well know had coming know cant free but those people keep movin and thats what tortures  well they freed from this prison that railroad train was mine bet move little farther down the line far from folsom prison, thats where want stay and let that lonesome whistle blow blues away  \n",
      "\n",
      "[' ', 'train', 'comin', 'rolling', 'round', 'bend', 'ai', 'nt', 'seen', 'sunshine', 'nt', 'know', 'stuck', 'folsom', 'prison', ',', 'time', 'keeps', 'draggin', 'train', 'keeps', 'rollin', 'san', 'antone', ' ', 'baby', 'mama', 'told', '.', 'son', 'good', 'boy', ',', 'nt', 'play', 'guns', 'shot', 'man', 'reno', 'watch', 'die', 'hear', 'whistle', 'blowing', 'hang', 'head', 'cry', 'bet', 's', 'rich', 'folks', 'eating', 'fancy', 'dining', 'car', 'probably', 'drinkin', 'coffee', 'smoking', 'big', 'cigars', 'know', 'coming', 'know', 'nt', 'free', 'people', 'movin', 's', 'tortures', ' ', 'freed', 'prison', 'railroad', 'train', 'bet', 'little', 'farther', 'line', 'far', 'folsom', 'prison', ',', 's', 'want', 'stay', 'let', 'lonesome', 'whistle', 'blow', 'blues', 'away', ' ']\n"
     ]
    }
   ],
   "source": [
    "#Remove stop words\n",
    "doc = spacy_nlp(lyric)\n",
    "tokens = [token.text for token in doc if not token.is_stop]\n",
    "\n",
    "print('Original Article: %s' % (lyric))\n",
    "print()\n",
    "print(tokens)"
   ]
  },
  {
   "cell_type": "code",
   "execution_count": 60,
   "metadata": {},
   "outputs": [
    {
     "name": "stdout",
     "output_type": "stream",
     "text": [
      "Original Article:  the train comin its rolling round the bend and aint seen the sunshine since dont know when stuck folsom prison, and time keeps draggin but that train keeps rollin down san antone  when was just baby mama told. son always good boy, dont ever play with guns but shot man reno just watch him die when hear that whistle blowing hang head and cry bet theres rich folks eating fancy dining car theyre probably drinkin coffee and smoking big cigars well know had coming know cant free but those people keep movin and thats what tortures  well they freed from this prison that railroad train was mine bet move little farther down the line far from folsom prison, thats where want stay and let that lonesome whistle blow blues away  \n",
      "\n",
      "[' ', 'train', 'comin', 'rolling', 'round', 'bend', 'seen', 'sunshine', 'know', 'stuck', 'folsom', 'prison', ',', 'time', 'keeps', 'draggin', 'train', 'keeps', 'san', 'antone', ' ', 'baby', 'mama', 'told', '.', 'son', 'good', 'boy', ',', 'play', 'guns', 'shot', 'man', 'reno', 'watch', 'die', 'hear', 'whistle', 'blowing', 'hang', 'head', 'cry', 'bet', 'rich', 'folks', 'eating', 'fancy', 'dining', 'car', 'probably', 'drinkin', 'coffee', 'smoking', 'cigars', 'know', 'know', 'free', 'people', 'movin', 'tortures', ' ', 'freed', 'prison', 'railroad', 'train', 'bet', 'little', 'farther', 'line', 'far', 'folsom', 'prison', ',', 'stay', 'lonesome', 'whistle', 'blow', 'blues', ' ']\n"
     ]
    }
   ],
   "source": [
    "#Add customize stop words\n",
    "customize_stop_words = [\n",
    "    'want', 'big','coming','rollin','let','away'\n",
    "]\n",
    "\n",
    "for w in customize_stop_words:\n",
    "    spacy_nlp.vocab[w].is_stop = True\n",
    "\n",
    "doc = spacy_nlp(lyric)\n",
    "tokens = [token.text for token in doc if not token.is_stop]\n",
    "\n",
    "print('Original Article: %s' % (lyric))\n",
    "print()\n",
    "print(tokens)"
   ]
  },
  {
   "cell_type": "code",
   "execution_count": null,
   "metadata": {},
   "outputs": [],
   "source": []
  },
  {
   "cell_type": "code",
   "execution_count": null,
   "metadata": {},
   "outputs": [],
   "source": []
  }
 ],
 "metadata": {
  "kernelspec": {
   "display_name": "Python 3",
   "language": "python",
   "name": "python3"
  },
  "language_info": {
   "codemirror_mode": {
    "name": "ipython",
    "version": 3
   },
   "file_extension": ".py",
   "mimetype": "text/x-python",
   "name": "python",
   "nbconvert_exporter": "python",
   "pygments_lexer": "ipython3",
   "version": "3.7.1"
  }
 },
 "nbformat": 4,
 "nbformat_minor": 2
}
