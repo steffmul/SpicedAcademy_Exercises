{
 "cells": [
  {
   "cell_type": "markdown",
   "metadata": {},
   "source": [
    "# LDA - Latent Dirichlet Allocation\n",
    "\n",
    "## Topic Modeling"
   ]
  },
  {
   "cell_type": "code",
   "execution_count": 3,
   "metadata": {},
   "outputs": [],
   "source": [
    "from sklearn.decomposition import LatentDirichletAllocation\n",
    "from sklearn.feature_extraction.text import CountVectorizer, TfidfTransformer\n",
    "from sklearn.datasets import fetch_20newsgroups\n",
    "import pandas as pd"
   ]
  },
  {
   "cell_type": "code",
   "execution_count": 4,
   "metadata": {
    "scrolled": true
   },
   "outputs": [
    {
     "data": {
      "text/plain": [
       "11314"
      ]
     },
     "execution_count": 4,
     "metadata": {},
     "output_type": "execute_result"
    }
   ],
   "source": [
    "f = fetch_20newsgroups()\n",
    "d = f['data']\n",
    "len(d)"
   ]
  },
  {
   "cell_type": "code",
   "execution_count": 15,
   "metadata": {},
   "outputs": [],
   "source": [
    "import re\n",
    "corpus = []\n",
    "for doc in d:\n",
    "    corpus.append(re.sub('\\w*\\d+\\w*', ' ', doc)) # remove numbers"
   ]
  },
  {
   "cell_type": "code",
   "execution_count": 8,
   "metadata": {},
   "outputs": [],
   "source": [
    "# f['target_names']\n",
    "# we don't use the labels -> unsupervised learning"
   ]
  },
  {
   "cell_type": "code",
   "execution_count": 16,
   "metadata": {},
   "outputs": [
    {
     "data": {
      "text/plain": [
       "21528103"
      ]
     },
     "execution_count": 16,
     "metadata": {},
     "output_type": "execute_result"
    }
   ],
   "source": [
    "data = ' '.join(corpus)\n",
    "len(data)"
   ]
  },
  {
   "cell_type": "code",
   "execution_count": 20,
   "metadata": {},
   "outputs": [
    {
     "data": {
      "text/plain": [
       "\"From: guykuo@carson.u.washington.edu (Guy Kuo)\\nSubject: SI Clock Poll - Final Call\\nSummary: Final call for SI clock reports\\nKeywords: SI,acceleration,clock,upgrade\\nArticle-I.D.: shelley. \\nOrganization: University of Washington\\nLines:  \\nNNTP-Posting-Host: carson.u.washington.edu\\n\\nA fair number of brave souls who upgraded their SI clock oscillator have\\nshared their experiences for this poll. Please send a brief message detailing\\nyour experiences with the procedure. Top speed attained, CPU rated speed,\\nadd on cards and adapters, heat sinks, hour of usage per day, floppy disk\\nfunctionality with   and  .  m floppies are especially requested.\\n\\nI will be summarizing in the next two days, so please add to the network\\nknowledge base if you have done the clock upgrade and haven't answered this\\npoll. Thanks.\\n\\nGuy Kuo <guykuo@u.washington.edu>\\n\""
      ]
     },
     "execution_count": 20,
     "metadata": {},
     "output_type": "execute_result"
    }
   ],
   "source": [
    "corpus[1]"
   ]
  },
  {
   "cell_type": "code",
   "execution_count": 17,
   "metadata": {},
   "outputs": [],
   "source": [
    "cv = CountVectorizer(stop_words='english')"
   ]
  },
  {
   "cell_type": "code",
   "execution_count": 38,
   "metadata": {},
   "outputs": [],
   "source": [
    "vec = cv.fit_transform(corpus[:500])"
   ]
  },
  {
   "cell_type": "code",
   "execution_count": 39,
   "metadata": {},
   "outputs": [
    {
     "data": {
      "text/plain": [
       "16026"
      ]
     },
     "execution_count": 39,
     "metadata": {},
     "output_type": "execute_result"
    }
   ],
   "source": [
    "len(cv.vocabulary_)"
   ]
  },
  {
   "cell_type": "code",
   "execution_count": 40,
   "metadata": {},
   "outputs": [
    {
     "data": {
      "text/plain": [
       "<500x16026 sparse matrix of type '<class 'numpy.int64'>'\n",
       "\twith 48044 stored elements in Compressed Sparse Row format>"
      ]
     },
     "execution_count": 40,
     "metadata": {},
     "output_type": "execute_result"
    }
   ],
   "source": [
    "vec"
   ]
  },
  {
   "cell_type": "markdown",
   "metadata": {},
   "source": [
    "### Why is this a sparse matrix, not a normal Numpy array?\n",
    "\n",
    "10000 docs * 10000 unique words -> 100 million cells\n",
    "\n",
    "sparse matrix only stores nonzero values -> smaller, faster"
   ]
  },
  {
   "cell_type": "code",
   "execution_count": null,
   "metadata": {},
   "outputs": [],
   "source": []
  },
  {
   "cell_type": "code",
   "execution_count": 41,
   "metadata": {},
   "outputs": [
    {
     "name": "stderr",
     "output_type": "stream",
     "text": [
      "/home/kristian/anaconda3/lib/python3.6/site-packages/sklearn/decomposition/online_lda.py:536: DeprecationWarning: The default value for 'learning_method' will be changed from 'online' to 'batch' in the release 0.20. This warning was introduced in 0.18.\n",
      "  DeprecationWarning)\n"
     ]
    },
    {
     "data": {
      "text/plain": [
       "LatentDirichletAllocation(batch_size=128, doc_topic_prior=None,\n",
       "             evaluate_every=-1, learning_decay=0.7, learning_method=None,\n",
       "             learning_offset=10.0, max_doc_update_iter=100, max_iter=10,\n",
       "             mean_change_tol=0.001, n_components=10, n_jobs=1,\n",
       "             n_topics=None, perp_tol=0.1, random_state=None,\n",
       "             topic_word_prior=None, total_samples=1000000.0, verbose=0)"
      ]
     },
     "execution_count": 41,
     "metadata": {},
     "output_type": "execute_result"
    }
   ],
   "source": [
    "lda = LatentDirichletAllocation(n_components=10)\n",
    "lda.fit(vec)"
   ]
  },
  {
   "cell_type": "code",
   "execution_count": 42,
   "metadata": {},
   "outputs": [
    {
     "data": {
      "text/plain": [
       "(10, 16026)"
      ]
     },
     "execution_count": 42,
     "metadata": {},
     "output_type": "execute_result"
    }
   ],
   "source": [
    "c = lda.components_\n",
    "c.shape  # topics x words"
   ]
  },
  {
   "cell_type": "code",
   "execution_count": null,
   "metadata": {},
   "outputs": [],
   "source": []
  },
  {
   "cell_type": "code",
   "execution_count": 43,
   "metadata": {},
   "outputs": [
    {
     "data": {
      "text/plain": [
       "16026"
      ]
     },
     "execution_count": 43,
     "metadata": {},
     "output_type": "execute_result"
    }
   ],
   "source": [
    "words = list(sorted(cv.vocabulary_.keys()))\n",
    "len(words)"
   ]
  },
  {
   "cell_type": "code",
   "execution_count": 44,
   "metadata": {},
   "outputs": [
    {
     "data": {
      "text/plain": [
       "(16026, 10)"
      ]
     },
     "execution_count": 44,
     "metadata": {},
     "output_type": "execute_result"
    }
   ],
   "source": [
    "ctrans = c.T\n",
    "ctrans.shape"
   ]
  },
  {
   "cell_type": "code",
   "execution_count": 45,
   "metadata": {},
   "outputs": [
    {
     "data": {
      "text/html": [
       "<div>\n",
       "<style scoped>\n",
       "    .dataframe tbody tr th:only-of-type {\n",
       "        vertical-align: middle;\n",
       "    }\n",
       "\n",
       "    .dataframe tbody tr th {\n",
       "        vertical-align: top;\n",
       "    }\n",
       "\n",
       "    .dataframe thead th {\n",
       "        text-align: right;\n",
       "    }\n",
       "</style>\n",
       "<table border=\"1\" class=\"dataframe\">\n",
       "  <thead>\n",
       "    <tr style=\"text-align: right;\">\n",
       "      <th></th>\n",
       "      <th>0</th>\n",
       "      <th>1</th>\n",
       "      <th>2</th>\n",
       "      <th>3</th>\n",
       "      <th>4</th>\n",
       "      <th>5</th>\n",
       "      <th>6</th>\n",
       "      <th>7</th>\n",
       "      <th>8</th>\n",
       "      <th>9</th>\n",
       "    </tr>\n",
       "  </thead>\n",
       "  <tbody>\n",
       "    <tr>\n",
       "      <th>__</th>\n",
       "      <td>0.585160</td>\n",
       "      <td>0.139139</td>\n",
       "      <td>0.114512</td>\n",
       "      <td>0.112990</td>\n",
       "      <td>0.113316</td>\n",
       "      <td>0.110422</td>\n",
       "      <td>1.205384</td>\n",
       "      <td>8.360709</td>\n",
       "      <td>35.266096</td>\n",
       "      <td>1.872802</td>\n",
       "    </tr>\n",
       "    <tr>\n",
       "      <th>___</th>\n",
       "      <td>0.144512</td>\n",
       "      <td>0.146269</td>\n",
       "      <td>0.112228</td>\n",
       "      <td>0.113768</td>\n",
       "      <td>0.113673</td>\n",
       "      <td>0.112231</td>\n",
       "      <td>0.136749</td>\n",
       "      <td>0.114249</td>\n",
       "      <td>21.882438</td>\n",
       "      <td>0.113812</td>\n",
       "    </tr>\n",
       "    <tr>\n",
       "      <th>____</th>\n",
       "      <td>0.626206</td>\n",
       "      <td>0.118898</td>\n",
       "      <td>0.112343</td>\n",
       "      <td>0.112250</td>\n",
       "      <td>0.112022</td>\n",
       "      <td>0.112688</td>\n",
       "      <td>0.110138</td>\n",
       "      <td>0.111611</td>\n",
       "      <td>5.714276</td>\n",
       "      <td>0.110535</td>\n",
       "    </tr>\n",
       "    <tr>\n",
       "      <th>_____</th>\n",
       "      <td>4.601887</td>\n",
       "      <td>0.126271</td>\n",
       "      <td>0.110959</td>\n",
       "      <td>0.111410</td>\n",
       "      <td>0.110915</td>\n",
       "      <td>0.112372</td>\n",
       "      <td>0.112742</td>\n",
       "      <td>0.112746</td>\n",
       "      <td>9.833511</td>\n",
       "      <td>0.112925</td>\n",
       "    </tr>\n",
       "    <tr>\n",
       "      <th>______</th>\n",
       "      <td>0.119251</td>\n",
       "      <td>0.112605</td>\n",
       "      <td>0.111515</td>\n",
       "      <td>0.113781</td>\n",
       "      <td>0.112536</td>\n",
       "      <td>0.112534</td>\n",
       "      <td>0.115748</td>\n",
       "      <td>0.110288</td>\n",
       "      <td>4.121874</td>\n",
       "      <td>0.112370</td>\n",
       "    </tr>\n",
       "  </tbody>\n",
       "</table>\n",
       "</div>"
      ],
      "text/plain": [
       "               0         1         2         3         4         5         6  \\\n",
       "__      0.585160  0.139139  0.114512  0.112990  0.113316  0.110422  1.205384   \n",
       "___     0.144512  0.146269  0.112228  0.113768  0.113673  0.112231  0.136749   \n",
       "____    0.626206  0.118898  0.112343  0.112250  0.112022  0.112688  0.110138   \n",
       "_____   4.601887  0.126271  0.110959  0.111410  0.110915  0.112372  0.112742   \n",
       "______  0.119251  0.112605  0.111515  0.113781  0.112536  0.112534  0.115748   \n",
       "\n",
       "               7          8         9  \n",
       "__      8.360709  35.266096  1.872802  \n",
       "___     0.114249  21.882438  0.113812  \n",
       "____    0.111611   5.714276  0.110535  \n",
       "_____   0.112746   9.833511  0.112925  \n",
       "______  0.110288   4.121874  0.112370  "
      ]
     },
     "execution_count": 45,
     "metadata": {},
     "output_type": "execute_result"
    }
   ],
   "source": [
    "df = pd.DataFrame(ctrans, index=words)\n",
    "df.head()"
   ]
  },
  {
   "cell_type": "code",
   "execution_count": 46,
   "metadata": {
    "scrolled": true
   },
   "outputs": [
    {
     "name": "stdout",
     "output_type": "stream",
     "text": [
      "morality      18.452477\n",
      "optilink      16.300565\n",
      "cramer        13.145780\n",
      "option        10.723806\n",
      "ssf            8.505126\n",
      "gay            8.450591\n",
      "moral          8.334245\n",
      "flights        7.763190\n",
      "homosexual     7.486132\n",
      "capability     7.030870\n",
      "Name: 0, dtype: float64\n",
      "----------------------------------------\n",
      "armenian     47.307601\n",
      "jews         37.067077\n",
      "people       29.439944\n",
      "war          28.391072\n",
      "turkish      26.664749\n",
      "stratus      25.854943\n",
      "article      25.829962\n",
      "com          25.390373\n",
      "armenians    23.959080\n",
      "russian      23.876034\n",
      "Name: 1, dtype: float64\n",
      "----------------------------------------\n",
      "conference     7.873722\n",
      "csiro          6.149802\n",
      "catalog        6.032918\n",
      "dicta          5.293551\n",
      "ericsson       5.288643\n",
      "information    4.487303\n",
      "recognition    4.427881\n",
      "aprs           4.421850\n",
      "division       3.723620\n",
      "prof           3.566210\n",
      "Name: 2, dtype: float64\n",
      "----------------------------------------\n",
      "space      26.545815\n",
      "shuttle    23.406696\n",
      "launch     19.386984\n",
      "probe      15.939794\n",
      "audio      15.823036\n",
      "orbit      15.729269\n",
      "titan      15.475645\n",
      "reserve    14.848349\n",
      "use        14.345913\n",
      "mission    14.179749\n",
      "Name: 3, dtype: float64\n",
      "----------------------------------------\n",
      "scsi         27.955133\n",
      "captain      15.230203\n",
      "traded       13.435668\n",
      "buffalo      12.443988\n",
      "captaincy     5.515163\n",
      "cameras       4.635118\n",
      "burst         4.426163\n",
      "captains      3.993053\n",
      "ramsey        3.941675\n",
      "roby          3.840911\n",
      "Name: 4, dtype: float64\n",
      "----------------------------------------\n",
      "son         38.550092\n",
      "father      36.468625\n",
      "spirit      26.642782\n",
      "creed       20.087642\n",
      "holy        18.637634\n",
      "dyer        13.515149\n",
      "st          13.509544\n",
      "proceeds    13.300115\n",
      "spdcc       10.826753\n",
      "acne        10.518069\n",
      "Name: 5, dtype: float64\n",
      "----------------------------------------\n",
      "ax     4567.779941\n",
      "max     334.829788\n",
      "pl       66.821918\n",
      "ql       58.768092\n",
      "giz      52.926465\n",
      "wm       40.248056\n",
      "bhj      39.966466\n",
      "cx       36.043081\n",
      "tm       34.162148\n",
      "m_       29.680321\n",
      "Name: 6, dtype: float64\n",
      "----------------------------------------\n",
      "mv    15.723283\n",
      "mt    14.889596\n",
      "mp    13.138049\n",
      "mu    12.766446\n",
      "mz    11.590356\n",
      "mj    11.373920\n",
      "mh    11.113454\n",
      "mw    11.103305\n",
      "wa    11.054281\n",
      "mf    11.012393\n",
      "Name: 7, dtype: float64\n",
      "----------------------------------------\n",
      "edu             842.954696\n",
      "subject         496.233240\n",
      "lines           487.602529\n",
      "organization    463.617512\n",
      "com             463.608148\n",
      "writes          322.124011\n",
      "article         288.891231\n",
      "university      214.954832\n",
      "posting         212.602882\n",
      "host            195.419254\n",
      "Name: 8, dtype: float64\n",
      "----------------------------------------\n",
      "oracle      12.276903\n",
      "windows     10.299453\n",
      "object       6.986604\n",
      "ram          6.731044\n",
      "yale         6.638781\n",
      "pov          6.176093\n",
      "software     5.528449\n",
      "ebosco       5.405013\n",
      "ohio         5.399074\n",
      "gpf          5.278732\n",
      "Name: 9, dtype: float64\n",
      "----------------------------------------\n"
     ]
    }
   ],
   "source": [
    "for i in range(10):\n",
    "    print(df.sort_values(by=i, ascending=False)[i].head(10))\n",
    "    print('-' * 40)"
   ]
  },
  {
   "cell_type": "markdown",
   "metadata": {},
   "source": [
    "## Gibbs Sampling in LDA\n",
    "\n",
    "1. assign random topics to each word in each document.\n",
    "2. go through each word in each document\n",
    "3. calculate observed p(ki|dj) and p(wi|kj)\n",
    "4. re-roll new topics for each word in each document\n",
    "5. repeat 2.-5. for some number of iterations"
   ]
  },
  {
   "cell_type": "markdown",
   "metadata": {},
   "source": [
    "### Main Appliction: Segment text corpora"
   ]
  },
  {
   "cell_type": "code",
   "execution_count": null,
   "metadata": {},
   "outputs": [],
   "source": []
  }
 ],
 "metadata": {
  "kernelspec": {
   "display_name": "Python 3",
   "language": "python",
   "name": "python3"
  },
  "language_info": {
   "codemirror_mode": {
    "name": "ipython",
    "version": 3
   },
   "file_extension": ".py",
   "mimetype": "text/x-python",
   "name": "python",
   "nbconvert_exporter": "python",
   "pygments_lexer": "ipython3",
   "version": "3.7.1"
  }
 },
 "nbformat": 4,
 "nbformat_minor": 2
}
